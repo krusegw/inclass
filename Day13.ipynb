{
  "nbformat": 4,
  "nbformat_minor": 0,
  "metadata": {
    "colab": {
      "provenance": [],
      "authorship_tag": "ABX9TyMosJDy7RxKx0ZoIallMW2z",
      "include_colab_link": true
    },
    "kernelspec": {
      "name": "python3",
      "display_name": "Python 3"
    },
    "language_info": {
      "name": "python"
    }
  },
  "cells": [
    {
      "cell_type": "markdown",
      "metadata": {
        "id": "view-in-github",
        "colab_type": "text"
      },
      "source": [
        "<a href=\"https://colab.research.google.com/github/krusegw/inclass/blob/main/Day13.ipynb\" target=\"_parent\"><img src=\"https://colab.research.google.com/assets/colab-badge.svg\" alt=\"Open In Colab\"/></a>"
      ]
    },
    {
      "cell_type": "markdown",
      "source": [
        "Day 13<br>\n",
        "Connecting to Google Colab, and saving notebooks to GitHub.\n"
      ],
      "metadata": {
        "id": "kj2BrCYSMb9c"
      }
    },
    {
      "cell_type": "code",
      "source": [
        "%pwd"
      ],
      "metadata": {
        "id": "zw2T4PELPIY-",
        "colab": {
          "base_uri": "https://localhost:8080/",
          "height": 36
        },
        "outputId": "457e094f-46df-491f-ba13-3922f1012927"
      },
      "execution_count": 8,
      "outputs": [
        {
          "output_type": "execute_result",
          "data": {
            "text/plain": [
              "'/content'"
            ],
            "application/vnd.google.colaboratory.intrinsic+json": {
              "type": "string"
            }
          },
          "metadata": {},
          "execution_count": 8
        }
      ]
    },
    {
      "cell_type": "code",
      "source": [
        "%ls sample_data"
      ],
      "metadata": {
        "colab": {
          "base_uri": "https://localhost:8080/"
        },
        "id": "L0Vh-Eu4WfA-",
        "outputId": "df501a3a-a3e0-4271-f24c-7a2b825b6117"
      },
      "execution_count": 9,
      "outputs": [
        {
          "output_type": "stream",
          "name": "stdout",
          "text": [
            "\u001b[0m\u001b[01;32manscombe.json\u001b[0m*               california_housing_train.csv  mnist_train_small.csv\n",
            "california_housing_test.csv  mnist_test.csv                \u001b[01;32mREADME.md\u001b[0m*\n"
          ]
        }
      ]
    },
    {
      "cell_type": "code",
      "source": [
        "%cd sample_data/"
      ],
      "metadata": {
        "colab": {
          "base_uri": "https://localhost:8080/"
        },
        "id": "2qXV5ewAWrKd",
        "outputId": "c012d38b-8797-43b1-d75d-42f2e8ddfa2d"
      },
      "execution_count": 10,
      "outputs": [
        {
          "output_type": "stream",
          "name": "stdout",
          "text": [
            "/content/sample_data\n"
          ]
        }
      ]
    },
    {
      "cell_type": "code",
      "source": [
        "%ls"
      ],
      "metadata": {
        "colab": {
          "base_uri": "https://localhost:8080/"
        },
        "id": "AKwGYPLlZ6KA",
        "outputId": "60d8ad97-2297-410d-a96b-98b6c7f6977d"
      },
      "execution_count": 12,
      "outputs": [
        {
          "output_type": "stream",
          "name": "stdout",
          "text": [
            "\u001b[0m\u001b[01;32manscombe.json\u001b[0m*               california_housing_train.csv  mnist_train_small.csv\n",
            "california_housing_test.csv  mnist_test.csv                \u001b[01;32mREADME.md\u001b[0m*\n"
          ]
        }
      ]
    },
    {
      "cell_type": "code",
      "source": [
        "%cd ../.."
      ],
      "metadata": {
        "colab": {
          "base_uri": "https://localhost:8080/"
        },
        "id": "SpO_l5EfaL_e",
        "outputId": "bec67b7a-fa43-4f48-d1e6-11797831aee4"
      },
      "execution_count": 14,
      "outputs": [
        {
          "output_type": "stream",
          "name": "stdout",
          "text": [
            "/\n"
          ]
        }
      ]
    },
    {
      "cell_type": "code",
      "source": [
        "%ls"
      ],
      "metadata": {
        "colab": {
          "base_uri": "https://localhost:8080/"
        },
        "id": "O9NG4cbscR2p",
        "outputId": "6aa61a24-bd5e-47a4-b8bd-82f0d2b80123"
      },
      "execution_count": 15,
      "outputs": [
        {
          "output_type": "stream",
          "name": "stdout",
          "text": [
            "\u001b[0m\u001b[01;36mbin\u001b[0m@                        \u001b[01;34mdev\u001b[0m/    \u001b[01;36mlib64\u001b[0m@                    \u001b[01;34mopt\u001b[0m/                \u001b[01;34mrun\u001b[0m/   \u001b[01;34mtools\u001b[0m/\n",
            "\u001b[01;34mboot\u001b[0m/                       \u001b[01;34metc\u001b[0m/    \u001b[01;36mlibx32\u001b[0m@                   \u001b[01;34mproc\u001b[0m/               \u001b[01;36msbin\u001b[0m@  \u001b[01;34musr\u001b[0m/\n",
            "\u001b[01;34mcontent\u001b[0m/                    \u001b[01;34mhome\u001b[0m/   \u001b[01;34mmedia\u001b[0m/                    \u001b[01;34mpython-apt\u001b[0m/         \u001b[01;34msrv\u001b[0m/   \u001b[01;34mvar\u001b[0m/\n",
            "cuda-keyring_1.0-1_all.deb  \u001b[01;36mlib\u001b[0m@    \u001b[01;34mmnt\u001b[0m/                      \u001b[01;32mpython-apt.tar.xz\u001b[0m*  \u001b[01;34msys\u001b[0m/\n",
            "\u001b[01;34mdatalab\u001b[0m/                    \u001b[01;36mlib32\u001b[0m@  NGC-DL-CONTAINER-LICENSE  \u001b[01;34mroot\u001b[0m/               \u001b[30;42mtmp\u001b[0m/\n"
          ]
        }
      ]
    },
    {
      "cell_type": "code",
      "source": [
        "%cd content"
      ],
      "metadata": {
        "colab": {
          "base_uri": "https://localhost:8080/"
        },
        "id": "omXTnNQIcWhP",
        "outputId": "9d970fcc-8e31-407f-9d38-e64e92a64c72"
      },
      "execution_count": 16,
      "outputs": [
        {
          "output_type": "stream",
          "name": "stdout",
          "text": [
            "/content\n"
          ]
        }
      ]
    },
    {
      "cell_type": "code",
      "source": [
        "%ls"
      ],
      "metadata": {
        "colab": {
          "base_uri": "https://localhost:8080/"
        },
        "id": "JxA9jmaScc5n",
        "outputId": "d428d814-0a38-4af0-87b0-0c681f8c4e83"
      },
      "execution_count": 17,
      "outputs": [
        {
          "output_type": "stream",
          "name": "stdout",
          "text": [
            "\u001b[0m\u001b[01;34msample_data\u001b[0m/\n"
          ]
        }
      ]
    },
    {
      "cell_type": "code",
      "source": [
        "!mkdir swc-python"
      ],
      "metadata": {
        "id": "TzdFYyfgcfdX"
      },
      "execution_count": 18,
      "outputs": []
    },
    {
      "cell_type": "code",
      "source": [
        "!ls"
      ],
      "metadata": {
        "colab": {
          "base_uri": "https://localhost:8080/"
        },
        "id": "tPVbgrbWfNNx",
        "outputId": "cc787c9a-5b2e-4243-b510-7ef7e6dd3d71"
      },
      "execution_count": 19,
      "outputs": [
        {
          "output_type": "stream",
          "name": "stdout",
          "text": [
            "sample_data  swc-python\n"
          ]
        }
      ]
    },
    {
      "cell_type": "code",
      "source": [
        "!ls -altF"
      ],
      "metadata": {
        "colab": {
          "base_uri": "https://localhost:8080/"
        },
        "id": "G41boAiJfOvo",
        "outputId": "36c7f767-8406-45e1-b9ef-c665d9cb404d"
      },
      "execution_count": 20,
      "outputs": [
        {
          "output_type": "stream",
          "name": "stdout",
          "text": [
            "total 20\n",
            "drwxr-xr-x 1 root root 4096 Jan 14 01:45 ./\n",
            "drwxr-xr-x 2 root root 4096 Jan 14 01:45 swc-python/\n",
            "drwxr-xr-x 1 root root 4096 Jan 14 00:35 ../\n",
            "drwxr-xr-x 1 root root 4096 Jan  9 14:24 sample_data/\n",
            "drwxr-xr-x 4 root root 4096 Jan  9 14:24 .config/\n"
          ]
        }
      ]
    },
    {
      "cell_type": "code",
      "source": [
        "%cd swc-python"
      ],
      "metadata": {
        "colab": {
          "base_uri": "https://localhost:8080/"
        },
        "id": "eo6_I3G8fQpI",
        "outputId": "f70b50de-a6cb-4d8c-83f4-aa655fa313c5"
      },
      "execution_count": 23,
      "outputs": [
        {
          "output_type": "stream",
          "name": "stdout",
          "text": [
            "/content/swc-python\n"
          ]
        }
      ]
    },
    {
      "cell_type": "code",
      "source": [
        "%ls"
      ],
      "metadata": {
        "colab": {
          "base_uri": "https://localhost:8080/"
        },
        "id": "ZEUVV8DEfUJA",
        "outputId": "ef9cb19e-e387-47f4-e39b-64544f02e960"
      },
      "execution_count": 25,
      "outputs": [
        {
          "output_type": "stream",
          "name": "stdout",
          "text": [
            "python-novice-inflammation-code.zip  python-novice-inflammation-data.zip\n"
          ]
        }
      ]
    },
    {
      "cell_type": "code",
      "source": [
        "!unzip python-novice-inflammation-code.zip"
      ],
      "metadata": {
        "colab": {
          "base_uri": "https://localhost:8080/"
        },
        "id": "_XYo_kmVfVVQ",
        "outputId": "df743c39-492e-4439-d1d8-d0b90b715275"
      },
      "execution_count": 28,
      "outputs": [
        {
          "output_type": "stream",
          "name": "stdout",
          "text": [
            "Archive:  python-novice-inflammation-code.zip\n",
            "  inflating: code/argv_list.py       \n",
            "  inflating: code/arith.py           \n",
            "  inflating: code/check.py           \n",
            "  inflating: code/count_stdin.py     \n",
            "  inflating: code/gen_inflammation.py  \n",
            "  inflating: code/line_count.py      \n",
            "  inflating: code/my_ls.py           \n",
            "  inflating: code/readings_01.py     \n",
            "  inflating: code/readings_02.py     \n",
            "  inflating: code/readings_03.py     \n",
            "  inflating: code/readings_04.py     \n",
            "  inflating: code/readings_05.py     \n",
            "  inflating: code/readings_06.py     \n",
            "  inflating: code/readings_07.py     \n",
            "  inflating: code/readings_08.py     \n",
            "  inflating: code/readings_09.py     \n",
            "  inflating: code/rectangle.py       \n",
            "  inflating: code/sys_version.py     \n"
          ]
        }
      ]
    },
    {
      "cell_type": "code",
      "source": [
        "!unzip *.zip"
      ],
      "metadata": {
        "colab": {
          "base_uri": "https://localhost:8080/"
        },
        "id": "BtOjjUp_gZK5",
        "outputId": "88914a57-0c03-4ca2-96ac-aa432455f129"
      },
      "execution_count": 29,
      "outputs": [
        {
          "output_type": "stream",
          "name": "stdout",
          "text": [
            "Archive:  python-novice-inflammation-code.zip\n",
            "caution: filename not matched:  python-novice-inflammation-data.zip\n"
          ]
        }
      ]
    },
    {
      "cell_type": "code",
      "source": [
        "!ls"
      ],
      "metadata": {
        "colab": {
          "base_uri": "https://localhost:8080/"
        },
        "id": "jIGndXIPgy7p",
        "outputId": "b9b5a9de-3161-482d-e578-8e1ae760b608"
      },
      "execution_count": 30,
      "outputs": [
        {
          "output_type": "stream",
          "name": "stdout",
          "text": [
            "code  python-novice-inflammation-code.zip  python-novice-inflammation-data.zip\n"
          ]
        }
      ]
    },
    {
      "cell_type": "code",
      "source": [
        "!unzip python-novice-inflammation-data.zip"
      ],
      "metadata": {
        "colab": {
          "base_uri": "https://localhost:8080/"
        },
        "id": "4mwYhF3ag1gp",
        "outputId": "287495cc-68fd-4ff9-e2c0-9543fc533b1b"
      },
      "execution_count": 31,
      "outputs": [
        {
          "output_type": "stream",
          "name": "stdout",
          "text": [
            "Archive:  python-novice-inflammation-data.zip\n",
            "   creating: data/\n",
            "  inflating: data/inflammation-01.csv  \n",
            "  inflating: data/inflammation-02.csv  \n",
            "  inflating: data/inflammation-03.csv  \n",
            "  inflating: data/inflammation-04.csv  \n",
            "  inflating: data/inflammation-05.csv  \n",
            "  inflating: data/inflammation-06.csv  \n",
            "  inflating: data/inflammation-07.csv  \n",
            "  inflating: data/inflammation-08.csv  \n",
            "  inflating: data/inflammation-09.csv  \n",
            "  inflating: data/inflammation-10.csv  \n",
            "  inflating: data/inflammation-11.csv  \n",
            "  inflating: data/inflammation-12.csv  \n",
            " extracting: data/small-01.csv       \n",
            " extracting: data/small-02.csv       \n",
            " extracting: data/small-03.csv       \n"
          ]
        }
      ]
    },
    {
      "cell_type": "code",
      "source": [
        "!ls data"
      ],
      "metadata": {
        "colab": {
          "base_uri": "https://localhost:8080/"
        },
        "id": "lDvhv5E_g7PZ",
        "outputId": "fc0ca3ee-29a7-452c-9145-cdf98298f02b"
      },
      "execution_count": 32,
      "outputs": [
        {
          "output_type": "stream",
          "name": "stdout",
          "text": [
            "inflammation-01.csv  inflammation-04.csv  inflammation-07.csv  inflammation-10.csv  small-01.csv\n",
            "inflammation-02.csv  inflammation-05.csv  inflammation-08.csv  inflammation-11.csv  small-02.csv\n",
            "inflammation-03.csv  inflammation-06.csv  inflammation-09.csv  inflammation-12.csv  small-03.csv\n"
          ]
        }
      ]
    },
    {
      "cell_type": "code",
      "source": [
        "!ls code"
      ],
      "metadata": {
        "colab": {
          "base_uri": "https://localhost:8080/"
        },
        "id": "WjOy-8Uzhgwp",
        "outputId": "1e214fc2-a5dc-4565-cd3c-334d02fb3f3e"
      },
      "execution_count": 33,
      "outputs": [
        {
          "output_type": "stream",
          "name": "stdout",
          "text": [
            "argv_list.py  count_stdin.py\t   my_ls.py\t   readings_03.py  readings_06.py  readings_09.py\n",
            "arith.py      gen_inflammation.py  readings_01.py  readings_04.py  readings_07.py  rectangle.py\n",
            "check.py      line_count.py\t   readings_02.py  readings_05.py  readings_08.py  sys_version.py\n"
          ]
        }
      ]
    },
    {
      "cell_type": "code",
      "source": [],
      "metadata": {
        "id": "_GcvOuGThkP5"
      },
      "execution_count": null,
      "outputs": []
    }
  ]
}