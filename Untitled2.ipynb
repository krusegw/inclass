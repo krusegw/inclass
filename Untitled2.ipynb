{
  "nbformat": 4,
  "nbformat_minor": 0,
  "metadata": {
    "colab": {
      "provenance": [],
      "authorship_tag": "ABX9TyMQErytMN+8SWCyAKqeKJD7",
      "include_colab_link": true
    },
    "kernelspec": {
      "name": "python3",
      "display_name": "Python 3"
    },
    "language_info": {
      "name": "python"
    }
  },
  "cells": [
    {
      "cell_type": "markdown",
      "metadata": {
        "id": "view-in-github",
        "colab_type": "text"
      },
      "source": [
        "<a href=\"https://colab.research.google.com/github/krusegw/inclass/blob/main/Untitled2.ipynb\" target=\"_parent\"><img src=\"https://colab.research.google.com/assets/colab-badge.svg\" alt=\"Open In Colab\"/></a>"
      ]
    },
    {
      "cell_type": "code",
      "execution_count": 1,
      "metadata": {
        "colab": {
          "base_uri": "https://localhost:8080/"
        },
        "id": "q9mSN9XycYkn",
        "outputId": "1e4cef33-54b9-4f53-d832-72c299285111"
      },
      "outputs": [
        {
          "output_type": "stream",
          "name": "stdout",
          "text": [
            "Archive:  python.zip\n",
            "   creating: data/\n",
            "  inflating: data/inflammation-01.csv  \n",
            "  inflating: data/inflammation-02.csv  \n",
            "  inflating: data/inflammation-03.csv  \n",
            "  inflating: data/inflammation-04.csv  \n",
            "  inflating: data/inflammation-05.csv  \n",
            "  inflating: data/inflammation-06.csv  \n",
            "  inflating: data/inflammation-07.csv  \n",
            "  inflating: data/inflammation-08.csv  \n",
            "  inflating: data/inflammation-09.csv  \n",
            "  inflating: data/inflammation-10.csv  \n",
            "  inflating: data/inflammation-11.csv  \n",
            "  inflating: data/inflammation-12.csv  \n",
            " extracting: data/small-01.csv       \n",
            " extracting: data/small-02.csv       \n",
            " extracting: data/small-03.csv       \n"
          ]
        }
      ],
      "source": [
        "!unzip python.zip"
      ]
    }
  ]
}